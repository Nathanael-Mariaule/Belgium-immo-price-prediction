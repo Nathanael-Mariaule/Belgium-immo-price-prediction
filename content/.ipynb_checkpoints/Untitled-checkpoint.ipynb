{
 "cells": [
  {
   "cell_type": "code",
   "execution_count": 29,
   "metadata": {},
   "outputs": [],
   "source": [
    "import numpy as np\n",
    "import pandas as pd\n",
    "import seaborn as sns\n",
    "import matplotlib.pyplot as plt\n",
    "from sklearn.linear_model import LinearRegression, Ridge, ElasticNetCV, LassoCV, RidgeCV, Lasso, SGDRegressor\n",
    "from data_cleaner import eliza_cleaning, eliza_fillna\n",
    "from sklearn.model_selection import train_test_split, KFold, cross_val_score\n",
    "from sklearn.compose import ColumnTransformer\n",
    "from sklearn.impute import SimpleImputer, KNNImputer\n",
    "from sklearn.pipeline import Pipeline, FeatureUnion, make_pipeline\n",
    "from sklearn.preprocessing import FunctionTransformer, OneHotEncoder, Normalizer, StandardScaler, PolynomialFeatures\n",
    "from sklearn.ensemble import RandomForestClassifier\n",
    "import xgboost as xgb\n",
    "from sklearn.metrics import explained_variance_score as evs # evaluation metric\n",
    "from sklearn.metrics import r2_score as r2 # evaluation metric\n",
    "from sklearn.metrics import mean_squared_error\n",
    "from xgboost import XGBRegressor\n",
    "\n",
    "from sklearn.metrics import mean_absolute_error\n",
    "from pickle import load"
   ]
  },
  {
   "cell_type": "code",
   "execution_count": 24,
   "metadata": {},
   "outputs": [],
   "source": [
    "raw_datas = pd.read_csv('https://raw.githubusercontent.com/JulienAlardot/challenge-collecting-data/main/Data/database.csv')\n",
    "datas = eliza_cleaning(raw_datas)\n",
    "datas = eliza_fillna(datas)\n",
    "median = pd.read_csv('median.csv')\n",
    "post = pd.read_csv('post_codes.csv', sep=';')\n",
    "median['Gemeente'] = median['Gemeente'].str.lower()\n",
    "post['Commune Principale'] = post['Commune principale'].str.lower()\n",
    "median_with_post = median.merge(post[['Code postal', 'Commune Principale']], how='left', left_on='Gemeente', right_on='Commune Principale')\n",
    "median_with_post = median_with_post.groupby('Gemeente').median()\n",
    "median_with_post['Mediaanprijs 2020'].fillna(median_with_post['Mediaanprijs 2019'], inplace=True)\n",
    "median_with_post['Mediaanprijs 2020'].fillna(median_with_post['Mediaanprijs 2018'], inplace=True)\n",
    "median_with_post.sort_values(by='Code postal', inplace=True)\n",
    "median_with_post.fillna(method='bfill', inplace=True)\n",
    "median_with_post.reset_index(inplace=True)\n",
    "median = median.merge(median_with_post[['Gemeente', 'Mediaanprijs 2020']], on='Gemeente')\n",
    "median_with_post = median.merge(post[['Code postal', 'Commune Principale']], how='left', left_on='Gemeente', right_on='Commune Principale')\n",
    "median_prices = median_with_post[['Code postal', 'Mediaanprijs 2020_y']]\n",
    "median_prices.columns = ['postal_code', 'median_price']\n",
    "median_prices = median_prices.groupby('postal_code').mean()\n",
    "median_prices.reset_index(inplace=True)\n",
    "median_prices['postal_code'] = median_prices['postal_code'].astype('int64')\n",
    "datas = datas.merge(median_prices, how='left', left_on='locality', right_on='postal_code')\n",
    "datas.drop('postal_code', inplace=True, axis=1)\n",
    "datas.sort_values(by='locality', ascending=False, inplace=True)\n",
    "datas['median_price'].fillna(method='ffill', inplace=True)\n",
    "datas.sort_index(inplace=True)\n",
    "col = datas.columns\n",
    "col = [col[0]]+[col[-1]]+list(col[1:-1])\n",
    "datas = datas[col]"
   ]
  },
  {
   "cell_type": "code",
   "execution_count": 25,
   "metadata": {},
   "outputs": [],
   "source": [
    "y = datas.pop('price')\n",
    "X = datas"
   ]
  },
  {
   "cell_type": "code",
   "execution_count": 26,
   "metadata": {},
   "outputs": [],
   "source": [
    "pipe = load(open('preprocessor.pkl', 'rb'))\n",
    "model_xgb = xgb.XGBRegressor()\n",
    "model_xgb.load_model(\"model.json\")\n"
   ]
  },
  {
   "cell_type": "code",
   "execution_count": 28,
   "metadata": {},
   "outputs": [
    {
     "name": "stdout",
     "output_type": "stream",
     "text": [
      "RMSE: 173483.202269\n",
      "R2 score:  0.8005509549923464\n"
     ]
    }
   ],
   "source": [
    "X = pipe.transform(X)\n",
    "\n",
    "preds = model_xgb.predict(X)\n",
    "rmse = np.sqrt(mean_squared_error( y, np.exp(preds)))\n",
    "print(\"RMSE: %f\" % (rmse))\n",
    "print(\"R2 score: \", model_xgb.score(X,  np.log(y)))"
   ]
  },
  {
   "cell_type": "code",
   "execution_count": null,
   "metadata": {},
   "outputs": [],
   "source": []
  }
 ],
 "metadata": {
  "kernelspec": {
   "display_name": "Python 3",
   "language": "python",
   "name": "python3"
  },
  "language_info": {
   "codemirror_mode": {
    "name": "ipython",
    "version": 3
   },
   "file_extension": ".py",
   "mimetype": "text/x-python",
   "name": "python",
   "nbconvert_exporter": "python",
   "pygments_lexer": "ipython3",
   "version": "3.8.5"
  }
 },
 "nbformat": 4,
 "nbformat_minor": 4
}
